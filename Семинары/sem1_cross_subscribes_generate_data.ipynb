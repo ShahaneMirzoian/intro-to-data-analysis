{
 "cells": [
  {
   "cell_type": "code",
   "execution_count": 260,
   "metadata": {},
   "outputs": [],
   "source": [
    "import numpy as np\n",
    "import pandas as pd\n",
    "import random"
   ]
  },
  {
   "cell_type": "code",
   "execution_count": 261,
   "metadata": {},
   "outputs": [],
   "source": [
    "geo_domen = ['msk',  'msk', 'regions', 'other' 'msk', 'spb', 'msk', 'spb','spb', 'regions', 'msk', 'msk', 'regions',  'regions', 'other']\n",
    "product_type_domen = ['video-light', 'video-premium', 'music-light', 'music-premium']\n",
    "order_type_domen = ['video', 'music']\n",
    "marketing_channel_domen = ['google.adwors','organic', 'yandex.direct', 'other', 'organic', 'google.adwors', 'refferal']"
   ]
  },
  {
   "cell_type": "code",
   "execution_count": 262,
   "metadata": {},
   "outputs": [],
   "source": [
    "people_to_create = 10000\n",
    "users = {}\n",
    "order_users = {}\n",
    "payments = {}"
   ]
  },
  {
   "cell_type": "code",
   "execution_count": 263,
   "metadata": {},
   "outputs": [],
   "source": [
    "def create_order(order_id, user_id):\n",
    "    order_info_dict = {}\n",
    "    order_info_dict['user_id'] = user_id\n",
    "    order_info_dict['order_type'] = order_type_domen[np.random.randint(0, 2)]\n",
    "    order_info_dict['order_date'] = '2019-{:02d}-{:02d} {:02d}:{:02d}'.format(order_id%11 + 1, order_id%29 + 1, order_id%23 + 1,order_id%59 + 1 )\n",
    "    return order_info_dict"
   ]
  },
  {
   "cell_type": "code",
   "execution_count": 264,
   "metadata": {},
   "outputs": [],
   "source": [
    "for i in range(1, people_to_create + 1):\n",
    "    user_info_dict = {}\n",
    "    user_id = 4000000 + i\n",
    "    user_info_dict['age'] = np.random.randint(14, 50)\n",
    "    user_info_dict['geo'] = geo_domen[np.random.randint(0, 14)]\n",
    "    user_info_dict['phone_hash'] = hash(str(user_id))\n",
    "    user_info_dict['email_hash'] = hash(str(-1*user_id))\n",
    "    user_info_dict['marketing_channel'] = marketing_channel_domen[np.random.randint(0, 7)]\n",
    "    users[user_id] = user_info_dict\n",
    "    \n",
    "\n",
    "    order_id = 13000000 + i\n",
    "    order_users[order_id] = create_order(order_id, user_id)\n",
    "    "
   ]
  },
  {
   "cell_type": "code",
   "execution_count": 265,
   "metadata": {},
   "outputs": [],
   "source": [
    "users_to_dublicate = random.sample(users.keys(), 1000) "
   ]
  },
  {
   "cell_type": "code",
   "execution_count": 266,
   "metadata": {},
   "outputs": [],
   "source": [
    "for i, user_id in enumerate(users_to_dublicate):\n",
    "    user_info_dict = {}\n",
    "    user_id_new = 1040000 + i\n",
    "    if i % 2 == 0:\n",
    "        features_to_copy = ['age', 'geo', 'phone_hash', 'marketing_channel']\n",
    "        feature_to_change = 'email_hash'\n",
    "    else: \n",
    "        features_to_copy = ['age', 'geo', 'email_hash', 'marketing_channel']\n",
    "        feature_to_change = 'phone_hash'\n",
    "    for f in features_to_copy:\n",
    "         user_info_dict[f] = users[user_id][f]\n",
    "    user_info_dict[feature_to_change] = users[user_id][feature_to_change] // 10000000000\n",
    "    users[user_id_new] = user_info_dict\n",
    "    \n",
    "    order_id = 23000000 + i\n",
    "    order_users[order_id] = create_order(order_id, user_id)\n"
   ]
  },
  {
   "cell_type": "code",
   "execution_count": 267,
   "metadata": {},
   "outputs": [],
   "source": [
    "user_orders_to_dublicate = random.sample(users.keys(), 1000) "
   ]
  },
  {
   "cell_type": "code",
   "execution_count": 268,
   "metadata": {},
   "outputs": [],
   "source": [
    "for i, user_id in enumerate(user_orders_to_dublicate):\n",
    "    order_id = 33000000 + i\n",
    "    order_users[order_id] = create_order(order_id, user_id)"
   ]
  },
  {
   "cell_type": "code",
   "execution_count": 269,
   "metadata": {},
   "outputs": [],
   "source": [
    "user_payments_to_create = random.sample(users.keys(), 5000) "
   ]
  },
  {
   "cell_type": "code",
   "execution_count": 270,
   "metadata": {},
   "outputs": [],
   "source": [
    "for i, user_id in enumerate(user_payments_to_create):\n",
    "    payment_info_dict = {}\n",
    "    payment_id = 450000 + 2*i\n",
    "    payment_info_dict['product_type'] = product_type_domen[np.random.randint(0, 4)]\n",
    "    payment_info_dict['amount'] = np.random.randint(100, 1000)\n",
    "    payment_info_dict['user_id'] = user_id\n",
    "    \n",
    "    payments[payment_id] = payment_info_dict"
   ]
  },
  {
   "cell_type": "code",
   "execution_count": 271,
   "metadata": {},
   "outputs": [
    {
     "data": {
      "text/plain": [
       "(11000, 12000, 5000)"
      ]
     },
     "execution_count": 271,
     "metadata": {},
     "output_type": "execute_result"
    }
   ],
   "source": [
    "len(users), len(order_users), len(payments)"
   ]
  },
  {
   "cell_type": "code",
   "execution_count": 279,
   "metadata": {},
   "outputs": [],
   "source": [
    "pd.DataFrame.from_dict(users, orient='index').to_csv('~/desktop/users.csv')\n",
    "pd.DataFrame.from_dict(payments, orient='index').to_csv('~/desktop/payments.csv')\n",
    "pd.DataFrame.from_dict(order_users, orient='index').to_csv('~/desktop/order_users.csv')"
   ]
  },
  {
   "cell_type": "code",
   "execution_count": 286,
   "metadata": {},
   "outputs": [
    {
     "data": {
      "text/plain": [
       "Index(['user_id', 'order_type', 'order_date'], dtype='object')"
      ]
     },
     "execution_count": 286,
     "metadata": {},
     "output_type": "execute_result"
    }
   ],
   "source": [
    "pd.DataFrame.from_dict(order_users, orient='index').columns"
   ]
  }
 ],
 "metadata": {
  "kernelspec": {
   "display_name": "Python 3",
   "language": "python",
   "name": "python3"
  },
  "language_info": {
   "codemirror_mode": {
    "name": "ipython",
    "version": 3
   },
   "file_extension": ".py",
   "mimetype": "text/x-python",
   "name": "python",
   "nbconvert_exporter": "python",
   "pygments_lexer": "ipython3",
   "version": "3.7.3"
  }
 },
 "nbformat": 4,
 "nbformat_minor": 2
}
